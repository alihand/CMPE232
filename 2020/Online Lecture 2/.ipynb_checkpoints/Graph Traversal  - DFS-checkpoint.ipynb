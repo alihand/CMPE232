{
 "cells": [
  {
   "cell_type": "markdown",
   "metadata": {
    "slideshow": {
     "slide_type": "slide"
    }
   },
   "source": [
    "# Advanced Data Structures and Algorithms\n",
    "By Dr. [Uzay Cetin](https://uzay00.github.io/kahve/)\n",
    "\n",
    " - Course for CMPE 232 @ Bilgi University\n",
    " - Python Implementations of Graph Algorithms\n",
    "\n",
    "Go to our Book's web site: https://algs4.cs.princeton.edu/lectures/"
   ]
  },
  {
   "cell_type": "markdown",
   "metadata": {
    "slideshow": {
     "slide_type": "slide"
    }
   },
   "source": [
    "## Depth For Search\n",
    "\n",
    "![](figures/DFS_traversal.gif)"
   ]
  },
  {
   "cell_type": "markdown",
   "metadata": {
    "slideshow": {
     "slide_type": "slide"
    }
   },
   "source": [
    "![](https://algs4.cs.princeton.edu/lectures/demo/41DemoDepthFirstSearch.mov)"
   ]
  },
  {
   "cell_type": "code",
   "execution_count": 1,
   "metadata": {
    "slideshow": {
     "slide_type": "slide"
    }
   },
   "outputs": [],
   "source": [
    "import warnings\n",
    "warnings.filterwarnings('ignore')\n",
    "\n",
    "import networkx as nx\n",
    "import matplotlib.pyplot as plt\n",
    "%matplotlib inline"
   ]
  },
  {
   "cell_type": "code",
   "execution_count": 2,
   "metadata": {},
   "outputs": [],
   "source": [
    "class node():\n",
    "    def __init__(self, name):\n",
    "        self.name = name \n",
    "        self.visited = False\n",
    "        self.neighbors = []   # List of references to adjacent nodes"
   ]
  },
  {
   "cell_type": "code",
   "execution_count": 3,
   "metadata": {
    "slideshow": {
     "slide_type": "slide"
    }
   },
   "outputs": [],
   "source": [
    "class Graph():\n",
    "    def __init__(self, edge_list):\n",
    "        self.edge_list = edge_list\n",
    "        self.create_nodes()\n",
    "        self.create_graph()\n",
    "        \n",
    "    def create_nodes(self):\n",
    "        # Get node names from edge_list and remove duplicates\n",
    "        self.node_names = list(set([s for s,t in self.edge_list]\n",
    "                                   +[t for s,t in self.edge_list]))\n",
    "        # create nodes, store in a dictionary\n",
    "        self.nodes = {n:node(n) for n in self.node_names}\n",
    "        \n",
    "    def create_graph(self):\n",
    "        for edge in self.edge_list:\n",
    "            self.add_edge(edge)\n",
    "            \n",
    "    def add_edge(self, edge):\n",
    "        s,t = edge\n",
    "        self.nodes[s].neighbors.append(t)\n",
    "        self.nodes[t].neighbors.append(s)"
   ]
  },
  {
   "cell_type": "code",
   "execution_count": 12,
   "metadata": {
    "slideshow": {
     "slide_type": "slide"
    }
   },
   "outputs": [],
   "source": [
    "def draw(g, node_name = None, pos_fr = None, color = 'lightgreen', display = True):\n",
    "    G = nx.Graph()\n",
    "    G.add_edges_from(g.edge_list)\n",
    "    \n",
    "    if pos_fr: pos_fr = pos_fr\n",
    "    else: pos_fr = nx.fruchterman_reingold_layout(G)\n",
    "    \n",
    "    marked = [name for name, node in g.nodes.items() if node.visited]\n",
    "    non_marked = [name for name, node in g.nodes.items() if not node.visited]\n",
    "    \n",
    "    fig = plt.figure(figsize=(10,10))\n",
    "    # Plot node labels\n",
    "    nx.draw_networkx_labels(G, pos=pos_fr)\n",
    "    # Plot nodes\n",
    "    nx.draw_networkx_nodes(G, pos=pos_fr, nodelist=marked, \n",
    "                           node_size=2000, font_size= 30, node_color='pink')\n",
    "    nx.draw_networkx_nodes(G, pos=pos_fr, nodelist=non_marked, \n",
    "                           node_size=1000, font_size= 30, node_color='lightblue')\n",
    "    # Plot edges \n",
    "    nx.draw_networkx_edges(G, pos=pos_fr, width=2)\n",
    "    if node_name:  plt.savefig(f'figures/iter{node_name}.png')\n",
    "    if not display: plt.close(fig)\n",
    "        \n",
    "    return pos_fr"
   ]
  },
  {
   "cell_type": "code",
   "execution_count": 13,
   "metadata": {
    "slideshow": {
     "slide_type": "slide"
    }
   },
   "outputs": [
    {
     "data": {
      "image/png": "[encoded data removed]",
      "text/plain": [
       "<Figure size 720x720 with 1 Axes>"
      ]
     },
     "metadata": {},
     "output_type": "display_data"
    }
   ],
   "source": [
    "# list of tuples (s,t)\n",
    "edge_list = [(1,2),(1,3),(1,4), (4,5), (3, 6), (2, 7)]\n",
    "\n",
    "g = Graph(edge_list)\n",
    "pos = draw(g)"
   ]
  },
  {
   "cell_type": "markdown",
   "metadata": {
    "slideshow": {
     "slide_type": "slide"
    }
   },
   "source": [
    "# Depth - First Search"
   ]
  },
  {
   "cell_type": "code",
   "execution_count": 14,
   "metadata": {},
   "outputs": [],
   "source": [
    "class DFS():   \n",
    "    def __init__(self, G):\n",
    "        self.G = G\n",
    "        self.traversal = []\n",
    "        self.pos_fr = draw(self.G)\n",
    "        \n",
    "    def dfs(self, s_name):\n",
    "        self.G.nodes[s_name].visited = True\n",
    "        self.traversal.append(s_name)\n",
    "        \n",
    "        draw(self.G, s_name,  pos_fr = self.pos_fr, display= False)\n",
    "        \n",
    "        for t_name in self.G.nodes[s_name].neighbors:\n",
    "            if not self.G.nodes[t_name].visited:\n",
    "                self.dfs(t_name)"
   ]
  },
  {
   "cell_type": "code",
   "execution_count": 7,
   "metadata": {
    "scrolled": false,
    "slideshow": {
     "slide_type": "slide"
    }
   },
   "outputs": [
    {
     "data": {
      "text/plain": [
       "[1, 2, 7, 3, 6, 4, 5]"
      ]
     },
     "execution_count": 7,
     "metadata": {},
     "output_type": "execute_result"
    },
    {
     "data": {
      "image/png": "[encoded data removed]",
      "text/plain": [
       "<Figure size 720x720 with 1 Axes>"
      ]
     },
     "metadata": {},
     "output_type": "display_data"
    }
   ],
   "source": [
    "dfs = DFS(g);\n",
    "dfs.dfs(s_name = 1);\n",
    "\n",
    "dfs.traversal"
   ]
  },
  {
   "cell_type": "code",
   "execution_count": 10,
   "metadata": {
    "slideshow": {
     "slide_type": "slide"
    }
   },
   "outputs": [],
   "source": [
    "from PIL import Image\n",
    "\n",
    "filename = 'DFS_traversal'\n",
    "# Create the frames\n",
    "frames = []\n",
    "imgs = [f'figures/iter{i}.png'for i in dfs.traversal] #glob.glob(\"*.png\")\n",
    "for i in imgs:\n",
    "    new_frame = Image.open(i)\n",
    "    frames.append(new_frame)\n",
    " \n",
    "# Save into a GIF file that loops forever\n",
    "frames[0].save(f'figures/{filename}.gif', format='GIF',\n",
    "               append_images=frames[1:],\n",
    "               save_all=True,\n",
    "               duration=300, loop=0)"
   ]
  },
  {
   "cell_type": "markdown",
   "metadata": {
    "slideshow": {
     "slide_type": "slide"
    }
   },
   "source": [
    "![](figures/DFS_traversal.gif)"
   ]
  }
 ],
 "metadata": {
  "celltoolbar": "Slideshow",
  "kernelspec": {
   "display_name": "Python 3",
   "language": "python",
   "name": "python3"
  },
  "language_info": {
   "codemirror_mode": {
    "name": "ipython",
    "version": 3
   },
   "file_extension": ".py",
   "mimetype": "text/x-python",
   "name": "python",
   "nbconvert_exporter": "python",
   "pygments_lexer": "ipython3",
   "version": "3.7.6"
  },
  "toc": {
   "base_numbering": 1,
   "nav_menu": {},
   "number_sections": true,
   "sideBar": true,
   "skip_h1_title": false,
   "title_cell": "Table of Contents",
   "title_sidebar": "Contents",
   "toc_cell": false,
   "toc_position": {},
   "toc_section_display": true,
   "toc_window_display": false
  },
  "varInspector": {
   "cols": {
    "lenName": 16,
    "lenType": 16,
    "lenVar": 40
   },
   "kernels_config": {
    "python": {
     "delete_cmd_postfix": "",
     "delete_cmd_prefix": "del ",
     "library": "var_list.py",
     "varRefreshCmd": "print(var_dic_list())"
    },
    "r": {
     "delete_cmd_postfix": ") ",
     "delete_cmd_prefix": "rm(",
     "library": "var_list.r",
     "varRefreshCmd": "cat(var_dic_list()) "
    }
   },
   "types_to_exclude": [
    "module",
    "function",
    "builtin_function_or_method",
    "instance",
    "_Feature"
   ],
   "window_display": false
  }
 },
 "nbformat": 4,
 "nbformat_minor": 4
}
