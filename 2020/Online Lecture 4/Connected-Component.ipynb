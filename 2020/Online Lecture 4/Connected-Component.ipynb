{
 "cells": [
  {
   "cell_type": "markdown",
   "metadata": {
    "slideshow": {
     "slide_type": "slide"
    }
   },
   "source": [
    "# Advanced Data Structures and Algorithms\n",
    "By Dr. [Uzay Cetin](https://uzay00.github.io/kahve/)\n",
    "\n",
    " - Course for CMPE 232 @ Bilgi University\n",
    " - Python Implementations of Graph Algorithms\n",
    "\n",
    "Go to our Book's web site: https://algs4.cs.princeton.edu/lectures/"
   ]
  },
  {
   "cell_type": "code",
   "execution_count": 1,
   "metadata": {
    "slideshow": {
     "slide_type": "slide"
    }
   },
   "outputs": [],
   "source": [
    "import warnings\n",
    "warnings.filterwarnings('ignore')\n",
    "\n",
    "from queue import Queue \n",
    "import networkx as nx\n",
    "import matplotlib.pyplot as plt\n",
    "%matplotlib inline"
   ]
  },
  {
   "cell_type": "code",
   "execution_count": 2,
   "metadata": {},
   "outputs": [],
   "source": [
    "class node():\n",
    "    def __init__(self, name):\n",
    "        self.name = name \n",
    "        self.visited = False\n",
    "        self.prev = None\n",
    "        self.id = None # Component ID\n",
    "        self.neighbors = []   # List of references to adjacent nodes (not node names)"
   ]
  },
  {
   "cell_type": "code",
   "execution_count": 3,
   "metadata": {
    "slideshow": {
     "slide_type": "slide"
    }
   },
   "outputs": [],
   "source": [
    "class Graph():\n",
    "    def __init__(self, edge_list):\n",
    "        self.edge_list = edge_list\n",
    "        self.create_nodes()\n",
    "        self.create_graph() # create edges\n",
    "        \n",
    "    def create_nodes(self):\n",
    "        # Get node names from edge_list and remove duplicates\n",
    "        self.node_names = list(set([s for s,t in self.edge_list]\n",
    "                                   +[t for s,t in self.edge_list]))\n",
    "        # create nodes, store in a dictionary\n",
    "        self.nodes = {n:node(n) for n in self.node_names}\n",
    "        \n",
    "    def create_graph(self):\n",
    "        for edge in self.edge_list:\n",
    "            self.add_edge(edge)\n",
    "            \n",
    "    def add_edge(self, edge):\n",
    "        s,t = edge\n",
    "        self.nodes[s].neighbors.append(self.nodes[t]) # in neighbor list I have nodes (not names)\n",
    "        self.nodes[t].neighbors.append(self.nodes[s])"
   ]
  },
  {
   "cell_type": "code",
   "execution_count": 4,
   "metadata": {
    "slideshow": {
     "slide_type": "slide"
    }
   },
   "outputs": [],
   "source": [
    "def draw(g, node_name = None, pos_fr = None, color = 'lightgreen', display = True):\n",
    "    G = nx.Graph()\n",
    "    G.add_edges_from(g.edge_list)\n",
    "    \n",
    "    if pos_fr: pos_fr = pos_fr\n",
    "    else: pos_fr = nx.fruchterman_reingold_layout(G)\n",
    "    \n",
    "    marked = [name for name, node in g.nodes.items() if node.visited]\n",
    "    non_marked = [name for name, node in g.nodes.items() if not node.visited]\n",
    "    \n",
    "    fig = plt.figure(figsize=(10,10))\n",
    "    # Plot node labels\n",
    "    nx.draw_networkx_labels(G, pos=pos_fr)\n",
    "    # Plot nodes\n",
    "    nx.draw_networkx_nodes(G, pos=pos_fr, nodelist=marked, \n",
    "                           node_size=600, font_size= 30, node_color='pink')\n",
    "    nx.draw_networkx_nodes(G, pos=pos_fr, nodelist=non_marked, \n",
    "                           node_size=300, font_size= 30, node_color='lightblue')\n",
    "    # Plot edges \n",
    "    nx.draw_networkx_edges(G, pos=pos_fr, width=2)\n",
    "    if node_name:  plt.savefig(f'figures/iter{node_name}.png')\n",
    "    if not display: plt.close(fig)\n",
    "        \n",
    "    return pos_fr"
   ]
  },
  {
   "cell_type": "markdown",
   "metadata": {
    "slideshow": {
     "slide_type": "slide"
    }
   },
   "source": [
    "## Connected Component"
   ]
  },
  {
   "cell_type": "code",
   "execution_count": 5,
   "metadata": {},
   "outputs": [],
   "source": [
    "class DFS():   \n",
    "    \"\"\"\n",
    "    - Mark v = Node[s_name] as visited\n",
    "    - recursively visit all unmarked neighbors\n",
    "    \"\"\"\n",
    "    def __init__(self, G):\n",
    "        self.G = G\n",
    "        self.traversal = []\n",
    "        self.pos_fr = draw(self.G) # inital position\n",
    "        \n",
    "    def dfs(self, s_name):\n",
    "        self.G.nodes[s_name].visited = True\n",
    "        self.traversal.append(s_name)\n",
    "        draw(self.G, s_name,  pos_fr = self.pos_fr, display= False) # using same position\n",
    "        \n",
    "        for t in self.G.nodes[s_name].neighbors: # t is node (not node name)\n",
    "            if not t.visited: # all unmarked neighbors\n",
    "                t.prev = s_name\n",
    "                self.dfs(t.name) # recursive visit"
   ]
  },
  {
   "cell_type": "code",
   "execution_count": 16,
   "metadata": {
    "slideshow": {
     "slide_type": "slide"
    }
   },
   "outputs": [],
   "source": [
    "class CC():   \n",
    "    def __init__(self, G):\n",
    "        self.G = G\n",
    "        self.traversal = []\n",
    "        self.pos_fr = draw(self.G) # inital position\n",
    "        \n",
    "    def CC(self):\n",
    "        cid = 0\n",
    "        for v_name, v in self.G.nodes.items():\n",
    "            if v.id == None:\n",
    "                self.dfs(s_name = v_name, cid = cid)\n",
    "                cid += 1\n",
    "                \n",
    "    def dfs(self, s_name, cid):\n",
    "        self.G.nodes[s_name].visited = True\n",
    "        self.G.nodes[s_name].id = cid\n",
    "        self.traversal.append(s_name)\n",
    "        draw(self.G, s_name,  pos_fr = self.pos_fr, display= False) # using same position\n",
    "        \n",
    "        for t in self.G.nodes[s_name].neighbors: # t is node (not node name)\n",
    "            if not t.visited: # all unmarked neighbors\n",
    "                t.prev = s_name\n",
    "                self.dfs(t.name, cid) # recursive visit"
   ]
  },
  {
   "cell_type": "code",
   "execution_count": 17,
   "metadata": {
    "slideshow": {
     "slide_type": "slide"
    }
   },
   "outputs": [
    {
     "data": {
      "image/png": "[encoded data removed]",
      "text/plain": [
       "<Figure size 720x720 with 1 Axes>"
      ]
     },
     "metadata": {},
     "output_type": "display_data"
    }
   ],
   "source": [
    "# list of tuples (s,t)\n",
    "edge_list = [('A1', 'A2'), ('A2', 'A3'), ('A3', 'A4'), ('A1', 'A3'),  \n",
    "             (1,2),(2,3),(1,3),\n",
    "            ('Z3','Z4')]\n",
    "g = Graph(edge_list)\n",
    "cc = CC(g)\n",
    "cc.CC()"
   ]
  },
  {
   "cell_type": "code",
   "execution_count": 14,
   "metadata": {
    "slideshow": {
     "slide_type": "slide"
    }
   },
   "outputs": [
    {
     "data": {
      "text/plain": [
       "{1: 0, 2: 0, 3: 0, 'A4': 1, 'Z3': 2, 'A1': 1, 'A3': 1, 'Z4': 2, 'A2': 1}"
      ]
     },
     "execution_count": 14,
     "metadata": {},
     "output_type": "execute_result"
    }
   ],
   "source": [
    "{v.name: v.id for v in cc.G.nodes.values()}"
   ]
  },
  {
   "cell_type": "code",
   "execution_count": 15,
   "metadata": {},
   "outputs": [
    {
     "data": {
      "image/png": "[encoded data removed]",
      "text/plain": [
       "<Figure size 720x720 with 1 Axes>"
      ]
     },
     "metadata": {},
     "output_type": "display_data"
    }
   ],
   "source": [
    "pos = draw(g)"
   ]
  }
 ],
 "metadata": {
  "celltoolbar": "Slideshow",
  "kernelspec": {
   "display_name": "Python 3",
   "language": "python",
   "name": "python3"
  },
  "language_info": {
   "codemirror_mode": {
    "name": "ipython",
    "version": 3
   },
   "file_extension": ".py",
   "mimetype": "text/x-python",
   "name": "python",
   "nbconvert_exporter": "python",
   "pygments_lexer": "ipython3",
   "version": "3.7.6"
  },
  "toc": {
   "base_numbering": 1,
   "nav_menu": {},
   "number_sections": true,
   "sideBar": true,
   "skip_h1_title": false,
   "title_cell": "Table of Contents",
   "title_sidebar": "Contents",
   "toc_cell": false,
   "toc_position": {},
   "toc_section_display": true,
   "toc_window_display": false
  },
  "varInspector": {
   "cols": {
    "lenName": 16,
    "lenType": 16,
    "lenVar": 40
   },
   "kernels_config": {
    "python": {
     "delete_cmd_postfix": "",
     "delete_cmd_prefix": "del ",
     "library": "var_list.py",
     "varRefreshCmd": "print(var_dic_list())"
    },
    "r": {
     "delete_cmd_postfix": ") ",
     "delete_cmd_prefix": "rm(",
     "library": "var_list.r",
     "varRefreshCmd": "cat(var_dic_list()) "
    }
   },
   "types_to_exclude": [
    "module",
    "function",
    "builtin_function_or_method",
    "instance",
    "_Feature"
   ],
   "window_display": false
  }
 },
 "nbformat": 4,
 "nbformat_minor": 4
}
