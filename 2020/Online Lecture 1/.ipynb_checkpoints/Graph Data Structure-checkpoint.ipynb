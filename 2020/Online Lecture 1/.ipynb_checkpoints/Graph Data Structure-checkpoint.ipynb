{
 "cells": [
  {
   "cell_type": "markdown",
   "metadata": {
    "slideshow": {
     "slide_type": "slide"
    }
   },
   "source": [
    "# Advanced Data Structures and Algorithms\n",
    "By Dr. [Uzay Cetin](https://uzay00.github.io/kahve/)\n",
    "\n",
    " - Course for CMPE 232 @ Bilgi University\n",
    " - Python Implementations of Graph Algorithms\n",
    "\n"
   ]
  },
  {
   "cell_type": "markdown",
   "metadata": {
    "slideshow": {
     "slide_type": "slide"
    }
   },
   "source": [
    " \n",
    "__Algorithm__\n",
    "\n",
    "Method for solving problems _(in an efficient way)_ \n",
    " - Ex: path, shortest path\n",
    "\n",
    "__Data Structure__\n",
    "\n",
    "Method for storing information _(in an efficient way)_\n",
    " - Ex: queue, priorty queue"
   ]
  },
  {
   "cell_type": "markdown",
   "metadata": {
    "slideshow": {
     "slide_type": "slide"
    }
   },
   "source": [
    "## Graph Data Structure\n",
    "\n",
    "![](graph.png)\n",
    "\n",
    "```\n",
    "edge_list = [(1,2),(1,3),(1,4), (2,3)]\n",
    "```"
   ]
  },
  {
   "cell_type": "markdown",
   "metadata": {
    "slideshow": {
     "slide_type": "slide"
    }
   },
   "source": [
    "__Graph Data Structure__\n",
    "\n",
    "![](adjacency.png)\n",
    "\n"
   ]
  },
  {
   "cell_type": "markdown",
   "metadata": {
    "slideshow": {
     "slide_type": "slide"
    }
   },
   "source": [
    "## Python Implementation\n",
    "\n",
    "First import libraries"
   ]
  },
  {
   "cell_type": "code",
   "execution_count": 1,
   "metadata": {},
   "outputs": [],
   "source": [
    "import warnings\n",
    "warnings.filterwarnings('ignore')\n",
    "\n",
    "import networkx as nx\n",
    "import matplotlib.pyplot as plt\n",
    "%matplotlib inline"
   ]
  },
  {
   "cell_type": "code",
   "execution_count": 4,
   "metadata": {
    "slideshow": {
     "slide_type": "slide"
    }
   },
   "outputs": [
    {
     "name": "stdout",
     "output_type": "stream",
     "text": [
      "[1, 1, 1, 2]\n",
      "[2, 3, 4, 3]\n",
      "[1, 1, 1, 2, 2, 3, 4, 3]\n"
     ]
    }
   ],
   "source": [
    "# list of tuples (s,t)\n",
    "edge_list = [(1,2),(1,3),(1,4),(2,3)]\n",
    "\n",
    "# Get Node names from edge_list\n",
    "sources = [s for s,t in edge_list] \n",
    "targets = [t for s,t in edge_list]\n",
    "\n",
    "print(sources)\n",
    "print(targets)\n",
    "print(sources+targets)"
   ]
  },
  {
   "cell_type": "code",
   "execution_count": 3,
   "metadata": {},
   "outputs": [
    {
     "data": {
      "text/plain": [
       "[1, 2, 3, 4]"
      ]
     },
     "execution_count": 3,
     "metadata": {},
     "output_type": "execute_result"
    }
   ],
   "source": [
    "# Remove duplicates\n",
    "node_names = list(set(sources+targets))\n",
    "node_names"
   ]
  },
  {
   "cell_type": "markdown",
   "metadata": {
    "slideshow": {
     "slide_type": "slide"
    }
   },
   "source": [
    "## Node Class"
   ]
  },
  {
   "cell_type": "code",
   "execution_count": 4,
   "metadata": {},
   "outputs": [],
   "source": [
    "class node():\n",
    "    def __init__(self, name):\n",
    "        self.name = name      \n",
    "        self.nei = []   # List of adjacent node names [We will change it later to references]"
   ]
  },
  {
   "cell_type": "markdown",
   "metadata": {
    "slideshow": {
     "slide_type": "slide"
    }
   },
   "source": [
    "Get node names from ```edge_list = [(1,2),(1,3),(1,4), (2,3)]```\n",
    "and store nodes in a dictionary"
   ]
  },
  {
   "cell_type": "code",
   "execution_count": 5,
   "metadata": {
    "slideshow": {
     "slide_type": "-"
    }
   },
   "outputs": [
    {
     "data": {
      "text/plain": [
       "{1: <__main__.node at 0xa15d45110>,\n",
       " 2: <__main__.node at 0xa15d454d0>,\n",
       " 3: <__main__.node at 0xa15d455d0>,\n",
       " 4: <__main__.node at 0xa15d45b90>}"
      ]
     },
     "execution_count": 5,
     "metadata": {},
     "output_type": "execute_result"
    }
   ],
   "source": [
    "# create nodes, store in a dictionary\n",
    "nodes = {n:node(n) for n in node_names}\n",
    "nodes"
   ]
  },
  {
   "cell_type": "code",
   "execution_count": 6,
   "metadata": {
    "slideshow": {
     "slide_type": "slide"
    }
   },
   "outputs": [
    {
     "name": "stdout",
     "output_type": "stream",
     "text": [
      "1 -- 2\n",
      "1 -- 3\n",
      "1 -- 4\n",
      "2 -- 3\n"
     ]
    }
   ],
   "source": [
    "# Display edges\n",
    "for edge in edge_list:\n",
    "    s,t = edge\n",
    "    print(s, \"--\", t)"
   ]
  },
  {
   "cell_type": "code",
   "execution_count": 7,
   "metadata": {},
   "outputs": [],
   "source": [
    "def add_edge(edge):\n",
    "    s,t = edge\n",
    "    nodes[s].nei.append(t)\n",
    "    nodes[t].nei.append(s)"
   ]
  },
  {
   "cell_type": "code",
   "execution_count": 8,
   "metadata": {},
   "outputs": [
    {
     "name": "stdout",
     "output_type": "stream",
     "text": [
      "[(1, 2), (1, 3), (1, 4), (2, 3)]\n"
     ]
    }
   ],
   "source": [
    "# Create Graph\n",
    "print(edge_list)\n",
    "for edge in edge_list:\n",
    "    add_edge(edge)"
   ]
  },
  {
   "cell_type": "code",
   "execution_count": 10,
   "metadata": {},
   "outputs": [
    {
     "data": {
      "text/plain": [
       "[1, 2]"
      ]
     },
     "execution_count": 10,
     "metadata": {},
     "output_type": "execute_result"
    }
   ],
   "source": [
    "nodes[3].nei"
   ]
  },
  {
   "cell_type": "markdown",
   "metadata": {
    "slideshow": {
     "slide_type": "slide"
    }
   },
   "source": [
    "## Graph Class"
   ]
  },
  {
   "cell_type": "code",
   "execution_count": 11,
   "metadata": {
    "slideshow": {
     "slide_type": "slide"
    }
   },
   "outputs": [],
   "source": [
    "class Graph():\n",
    "    def __init__(self, edge_list):\n",
    "        self.edge_list = edge_list\n",
    "        self.create_nodes()\n",
    "        self.create_graph()\n",
    "        \n",
    "    def create_nodes(self):\n",
    "        # Get node names from edge_list and remove duplicates\n",
    "        self.node_names = list(set([s for s,t in self.edge_list]\n",
    "                                   +[t for s,t in self.edge_list]))\n",
    "        # create nodes, store in a dictionary\n",
    "        self.nodes = {n:node(n) for n in self.node_names}\n",
    "        \n",
    "    def create_graph(self):\n",
    "        for edge in self.edge_list:\n",
    "            self.add_edge(edge)\n",
    "            \n",
    "    def add_edge(self, edge):\n",
    "        s,t = edge\n",
    "        self.nodes[s].nei.append(t)\n",
    "        self.nodes[t].nei.append(s)"
   ]
  },
  {
   "cell_type": "code",
   "execution_count": 12,
   "metadata": {
    "slideshow": {
     "slide_type": "slide"
    }
   },
   "outputs": [],
   "source": [
    "def draw(g, color = 'lightgreen'):\n",
    "    G = nx.Graph()\n",
    "    G.add_edges_from(g.edge_list)\n",
    "    nx.draw(G, node_size=2000, node_color=color, \n",
    "            font_size= 30, with_labels=True)"
   ]
  },
  {
   "cell_type": "code",
   "execution_count": 14,
   "metadata": {},
   "outputs": [
    {
     "data": {
      "image/png": "[encoded data removed]",
      "text/plain": [
       "<Figure size 432x288 with 1 Axes>"
      ]
     },
     "metadata": {},
     "output_type": "display_data"
    }
   ],
   "source": [
    "g = Graph(edge_list)\n",
    "draw(g)"
   ]
  },
  {
   "cell_type": "code",
   "execution_count": 16,
   "metadata": {},
   "outputs": [
    {
     "data": {
      "image/png": "[encoded data removed]",
      "text/plain": [
       "<Figure size 432x288 with 1 Axes>"
      ]
     },
     "metadata": {},
     "output_type": "display_data"
    }
   ],
   "source": [
    "edge_list = [('Romeo', 'Juillet'), ('Ferhat', 'Sirin')]\n",
    "g = Graph(edge_list)\n",
    "draw(g)"
   ]
  },
  {
   "cell_type": "markdown",
   "metadata": {
    "slideshow": {
     "slide_type": "slide"
    }
   },
   "source": [
    "# Conlusion\n",
    " - Thank you"
   ]
  },
  {
   "cell_type": "code",
   "execution_count": null,
   "metadata": {},
   "outputs": [],
   "source": []
  }
 ],
 "metadata": {
  "celltoolbar": "Slideshow",
  "kernelspec": {
   "display_name": "Python 3",
   "language": "python",
   "name": "python3"
  },
  "language_info": {
   "codemirror_mode": {
    "name": "ipython",
    "version": 3
   },
   "file_extension": ".py",
   "mimetype": "text/x-python",
   "name": "python",
   "nbconvert_exporter": "python",
   "pygments_lexer": "ipython3",
   "version": "3.7.6"
  },
  "toc": {
   "base_numbering": 1,
   "nav_menu": {},
   "number_sections": true,
   "sideBar": true,
   "skip_h1_title": false,
   "title_cell": "Table of Contents",
   "title_sidebar": "Contents",
   "toc_cell": false,
   "toc_position": {},
   "toc_section_display": true,
   "toc_window_display": false
  },
  "varInspector": {
   "cols": {
    "lenName": 16,
    "lenType": 16,
    "lenVar": 40
   },
   "kernels_config": {
    "python": {
     "delete_cmd_postfix": "",
     "delete_cmd_prefix": "del ",
     "library": "var_list.py",
     "varRefreshCmd": "print(var_dic_list())"
    },
    "r": {
     "delete_cmd_postfix": ") ",
     "delete_cmd_prefix": "rm(",
     "library": "var_list.r",
     "varRefreshCmd": "cat(var_dic_list()) "
    }
   },
   "types_to_exclude": [
    "module",
    "function",
    "builtin_function_or_method",
    "instance",
    "_Feature"
   ],
   "window_display": false
  }
 },
 "nbformat": 4,
 "nbformat_minor": 4
}
