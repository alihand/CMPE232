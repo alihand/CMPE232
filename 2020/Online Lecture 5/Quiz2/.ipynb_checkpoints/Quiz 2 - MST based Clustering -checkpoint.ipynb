{
 "cells": [
  {
   "cell_type": "markdown",
   "metadata": {},
   "source": [
    "## Undirected Weighted Graph"
   ]
  },
  {
   "cell_type": "code",
   "execution_count": 1,
   "metadata": {},
   "outputs": [],
   "source": [
    "import warnings\n",
    "warnings.filterwarnings('ignore')\n",
    "\n",
    "import networkx as nx\n",
    "import matplotlib.pyplot as plt\n",
    "%matplotlib inline\n",
    "\n",
    "class edge():\n",
    "    def __init__(self, s: str, t: str, weight:float):\n",
    "        self.s = s\n",
    "        self.t = t\n",
    "        self.weight = weight\n",
    "        \n",
    "    def __str__(self):\n",
    "        return \"{} -({})-> {}\".format(self.s,self.weight,self.t)\n",
    "    \n",
    "    def __lt__(self, other):\n",
    "        \"\"\"Less-than comparison.\"\"\"\n",
    "        return self.weight < other.weight\n",
    "\n",
    "class node():\n",
    "    def __init__(self, name: str):\n",
    "        \"\"\"\n",
    "         - node has a name (str)\n",
    "         - DIFFERENTLY neighbors is the list of edge objects\n",
    "        \"\"\"\n",
    "        self.name = name\n",
    "        self.neighbors = [] # list of edge objects !!\n",
    "        \n",
    "    def neighbors_name(self) -> list:\n",
    "        \"\"\"\n",
    "        info about neighbors names (returns list of strings)\n",
    "        \"\"\"\n",
    "        return [(e.s, e.t, e.weight) for e in self.neighbors]\n",
    "      \n",
    "        \n",
    "class weightedGraph():\n",
    "    def __init__(self, elist: list):\n",
    "        \"\"\"\n",
    "            self.nodes is a dictionary\n",
    "                key   : node name\n",
    "                value : node object\n",
    "        \"\"\"\n",
    "        self.elist = elist\n",
    "        self.node_names = list(set([s for s, t, w in elist] + [t for s,t,w in elist]))\n",
    "        self.nodes = {s:node(s) for s in self.node_names}\n",
    "        \n",
    "        self.create_graph()\n",
    "      \n",
    "    def add_edge(self, e:edge):\n",
    "        \"\"\"undirected Edge\"\"\"\n",
    "        self.nodes[e.s].neighbors.append(e)\n",
    "        self.nodes[e.t].neighbors.append(e)\n",
    "    \n",
    "    def create_graph(self):\n",
    "        for s,t,w in self.elist:\n",
    "            e = edge(s,t,w)\n",
    "            self.add_edge(e)\n",
    "                \n",
    "    def info(self) -> dict:\n",
    "        return {s:node_s.neighbors_name() for s,node_s in self.nodes.items()}\n",
    "    \n",
    "    def draw(self, color = 'orange'):\n",
    "        \"\"\"\n",
    "            Usage of networkx for visualisation\n",
    "        \"\"\"\n",
    "        G = nx.Graph()\n",
    "        G.add_weighted_edges_from(self.elist)\n",
    "        plt.figure(figsize=(20,10))\n",
    "       \n",
    "        pos = nx.spring_layout(G)  # positions for all nodes\n",
    "        nx.draw(G, pos, node_size=2000, node_color=color, font_size=40, with_labels=True)\n",
    "        nx.draw_networkx_edge_labels(G, pos, font_size=20,  edge_labels = nx.get_edge_attributes(G,'weight'))        "
   ]
  },
  {
   "cell_type": "markdown",
   "metadata": {},
   "source": [
    "## Lazy Prim MST"
   ]
  },
  {
   "cell_type": "code",
   "execution_count": 2,
   "metadata": {},
   "outputs": [],
   "source": [
    "from heapq import *\n",
    "\n",
    "class LazyPrimMST():\n",
    "    def __init__(self, G:weightedGraph):\n",
    "        self.G = G\n",
    "        self.marked = {node_name: False for node_name in self.G.node_names} # MST vertices\n",
    "        self.mst = [] # MST edges\n",
    "        self.pq = []  # Priority Queue of edges\n",
    "        \n",
    "        self.visit(self.G.node_names[0])\n",
    "        while self.pq:\n",
    "            weight, e = heappop(self.pq) \n",
    "            if self.marked[e.s] and self.marked[e.t]: continue\n",
    "            self.mst.append(e)\n",
    "            if not self.marked[e.s]: self.visit(e.s)\n",
    "            if not self.marked[e.t]: self.visit(e.t) \n",
    "                \n",
    "    def visit(self, v: str):\n",
    "        self.marked[v] = True\n",
    "        for e in self.G.nodes[v].neighbors:\n",
    "            s, t, weight = e.s, e.t, e.weight\n",
    "            if not self.marked[s]: heappush(self.pq, (weight, e))\n",
    "            if not self.marked[t]: heappush(self.pq, (weight, e)) \n",
    "    \n",
    "    def display(self):\n",
    "        return [(e.s, e.t, e.weight) for e in self.mst]"
   ]
  },
  {
   "cell_type": "markdown",
   "metadata": {},
   "source": [
    "# Quiz: Greedy Clustering Algorithm\n",
    "\n",
    "## Python Cluster class\n",
    "\n",
    "Write a python class that can find clusters based on Prim's Minimum Spaning Tree algorithm. \n",
    "\n",
    "To get `k = 3` clusters\n",
    "1. Build MST\n",
    " - Construct the given weighted undirected graph\n",
    " - Run the given `Lazy Prim's Minimum spaning Tree` algorithm\n",
    "\n",
    "2. Remove Edges\n",
    " - Automaticaly Delete $k-1$ longest edges\n",
    " "
   ]
  },
  {
   "cell_type": "markdown",
   "metadata": {},
   "source": [
    "## 0. Build the graph\n",
    "Use the given weightedGraph class\n",
    "![graph.png](graph.png)"
   ]
  },
  {
   "cell_type": "code",
   "execution_count": 18,
   "metadata": {},
   "outputs": [],
   "source": [
    "###"
   ]
  },
  {
   "cell_type": "code",
   "execution_count": 19,
   "metadata": {},
   "outputs": [],
   "source": [
    "###"
   ]
  },
  {
   "cell_type": "markdown",
   "metadata": {},
   "source": [
    "## 1. Build MST\n",
    "\n",
    "Run Prim's algorithm to find out minimum spaning tree\n",
    "![](mst.png)"
   ]
  },
  {
   "cell_type": "code",
   "execution_count": 20,
   "metadata": {},
   "outputs": [],
   "source": [
    "###"
   ]
  },
  {
   "cell_type": "code",
   "execution_count": 21,
   "metadata": {},
   "outputs": [],
   "source": [
    "###"
   ]
  },
  {
   "cell_type": "markdown",
   "metadata": {},
   "source": [
    "## 2. Edge Removal\n",
    "\n",
    " - Write an automated code for longest edge removal repeatedly\n",
    " - Use `Priority Queue`!!\n",
    " \n",
    "Remove 2 longest edges from MST, and you will get `k=3` clusters.\n",
    "\n",
    "![](clusters.png)"
   ]
  },
  {
   "cell_type": "code",
   "execution_count": 22,
   "metadata": {},
   "outputs": [],
   "source": [
    "###"
   ]
  },
  {
   "cell_type": "code",
   "execution_count": 23,
   "metadata": {},
   "outputs": [],
   "source": [
    "###"
   ]
  },
  {
   "cell_type": "code",
   "execution_count": 24,
   "metadata": {},
   "outputs": [],
   "source": [
    "###"
   ]
  },
  {
   "cell_type": "markdown",
   "metadata": {},
   "source": [
    "## 3. Write a python class for KClustering\n",
    "\n",
    "Write whole your code as a python class\n"
   ]
  },
  {
   "cell_type": "code",
   "execution_count": 25,
   "metadata": {},
   "outputs": [],
   "source": [
    "###"
   ]
  },
  {
   "cell_type": "code",
   "execution_count": 26,
   "metadata": {},
   "outputs": [],
   "source": [
    "###"
   ]
  },
  {
   "cell_type": "code",
   "execution_count": 27,
   "metadata": {},
   "outputs": [],
   "source": [
    "###"
   ]
  },
  {
   "cell_type": "markdown",
   "metadata": {},
   "source": [
    "## 4. Write the Code of Eager Prim MST\n",
    " - Modify the lazy version"
   ]
  },
  {
   "cell_type": "code",
   "execution_count": 1,
   "metadata": {},
   "outputs": [],
   "source": [
    "###"
   ]
  },
  {
   "cell_type": "code",
   "execution_count": 2,
   "metadata": {},
   "outputs": [],
   "source": [
    "###"
   ]
  },
  {
   "cell_type": "code",
   "execution_count": 3,
   "metadata": {},
   "outputs": [],
   "source": [
    "###"
   ]
  },
  {
   "cell_type": "markdown",
   "metadata": {},
   "source": [
    "## 5. Modify KClustering Class to include Eager Prim MST\n",
    " - Make `K = 2`\n",
    " \n",
    "  ![](2cluster.png)"
   ]
  },
  {
   "cell_type": "code",
   "execution_count": 4,
   "metadata": {},
   "outputs": [],
   "source": [
    "###"
   ]
  },
  {
   "cell_type": "code",
   "execution_count": 5,
   "metadata": {},
   "outputs": [],
   "source": [
    "###"
   ]
  },
  {
   "cell_type": "code",
   "execution_count": 6,
   "metadata": {},
   "outputs": [],
   "source": [
    "###"
   ]
  },
  {
   "cell_type": "code",
   "execution_count": null,
   "metadata": {},
   "outputs": [],
   "source": []
  }
 ],
 "metadata": {
  "kernelspec": {
   "display_name": "Python 3",
   "language": "python",
   "name": "python3"
  },
  "language_info": {
   "codemirror_mode": {
    "name": "ipython",
    "version": 3
   },
   "file_extension": ".py",
   "mimetype": "text/x-python",
   "name": "python",
   "nbconvert_exporter": "python",
   "pygments_lexer": "ipython3",
   "version": "3.6.7"
  }
 },
 "nbformat": 4,
 "nbformat_minor": 2
}
